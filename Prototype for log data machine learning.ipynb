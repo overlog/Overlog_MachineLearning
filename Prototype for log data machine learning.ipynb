{
 "cells": [
  {
   "cell_type": "code",
   "execution_count": 1,
   "metadata": {},
   "outputs": [],
   "source": [
    "import sys\n",
    "import numpy as np\n",
    "import pandas as pd\n",
    "import seaborn as sns\n",
    "\n",
    "#np.set_printoptions(threshold=sys.maxsize)"
   ]
  },
  {
   "cell_type": "markdown",
   "metadata": {},
   "source": [
    "Import data:"
   ]
  },
  {
   "cell_type": "code",
   "execution_count": 2,
   "metadata": {},
   "outputs": [],
   "source": [
    "data = pd.read_csv('weatherHistory.csv')"
   ]
  },
  {
   "cell_type": "code",
   "execution_count": 3,
   "metadata": {},
   "outputs": [
    {
     "name": "stdout",
     "output_type": "stream",
     "text": [
      "                      Formatted Date        Summary Precip Type  \\\n",
      "0      2006-04-01 00:00:00.000 +0200  Partly Cloudy        rain   \n",
      "1      2006-04-01 01:00:00.000 +0200  Partly Cloudy        rain   \n",
      "2      2006-04-01 02:00:00.000 +0200  Mostly Cloudy        rain   \n",
      "3      2006-04-01 03:00:00.000 +0200  Partly Cloudy        rain   \n",
      "4      2006-04-01 04:00:00.000 +0200  Mostly Cloudy        rain   \n",
      "5      2006-04-01 05:00:00.000 +0200  Partly Cloudy        rain   \n",
      "6      2006-04-01 06:00:00.000 +0200  Partly Cloudy        rain   \n",
      "7      2006-04-01 07:00:00.000 +0200  Partly Cloudy        rain   \n",
      "8      2006-04-01 08:00:00.000 +0200  Partly Cloudy        rain   \n",
      "9      2006-04-01 09:00:00.000 +0200  Partly Cloudy        rain   \n",
      "10     2006-04-01 10:00:00.000 +0200  Partly Cloudy        rain   \n",
      "11     2006-04-01 11:00:00.000 +0200  Partly Cloudy        rain   \n",
      "12     2006-04-01 12:00:00.000 +0200  Partly Cloudy        rain   \n",
      "13     2006-04-01 13:00:00.000 +0200  Partly Cloudy        rain   \n",
      "14     2006-04-01 14:00:00.000 +0200  Partly Cloudy        rain   \n",
      "15     2006-04-01 15:00:00.000 +0200  Partly Cloudy        rain   \n",
      "16     2006-04-01 16:00:00.000 +0200  Partly Cloudy        rain   \n",
      "17     2006-04-01 17:00:00.000 +0200  Mostly Cloudy        rain   \n",
      "18     2006-04-01 18:00:00.000 +0200  Mostly Cloudy        rain   \n",
      "19     2006-04-01 19:00:00.000 +0200  Mostly Cloudy        rain   \n",
      "20     2006-04-01 20:00:00.000 +0200  Mostly Cloudy        rain   \n",
      "21     2006-04-01 21:00:00.000 +0200  Mostly Cloudy        rain   \n",
      "22     2006-04-01 22:00:00.000 +0200  Partly Cloudy        rain   \n",
      "23     2006-04-01 23:00:00.000 +0200  Mostly Cloudy        rain   \n",
      "24     2006-04-10 00:00:00.000 +0200  Partly Cloudy        rain   \n",
      "25     2006-04-10 01:00:00.000 +0200  Partly Cloudy        rain   \n",
      "26     2006-04-10 02:00:00.000 +0200  Mostly Cloudy        rain   \n",
      "27     2006-04-10 03:00:00.000 +0200  Partly Cloudy        rain   \n",
      "28     2006-04-10 04:00:00.000 +0200  Partly Cloudy        rain   \n",
      "29     2006-04-10 05:00:00.000 +0200  Partly Cloudy        rain   \n",
      "...                              ...            ...         ...   \n",
      "96423  2016-09-08 18:00:00.000 +0200  Partly Cloudy        rain   \n",
      "96424  2016-09-08 19:00:00.000 +0200  Partly Cloudy        rain   \n",
      "96425  2016-09-08 20:00:00.000 +0200  Partly Cloudy        rain   \n",
      "96426  2016-09-08 21:00:00.000 +0200  Mostly Cloudy        rain   \n",
      "96427  2016-09-08 22:00:00.000 +0200  Partly Cloudy        rain   \n",
      "96428  2016-09-08 23:00:00.000 +0200  Partly Cloudy        rain   \n",
      "96429  2016-09-09 00:00:00.000 +0200  Partly Cloudy        rain   \n",
      "96430  2016-09-09 01:00:00.000 +0200          Clear        rain   \n",
      "96431  2016-09-09 02:00:00.000 +0200          Clear        rain   \n",
      "96432  2016-09-09 03:00:00.000 +0200          Clear        rain   \n",
      "96433  2016-09-09 04:00:00.000 +0200          Clear        rain   \n",
      "96434  2016-09-09 05:00:00.000 +0200          Clear        rain   \n",
      "96435  2016-09-09 06:00:00.000 +0200          Clear        rain   \n",
      "96436  2016-09-09 07:00:00.000 +0200          Clear        rain   \n",
      "96437  2016-09-09 08:00:00.000 +0200  Partly Cloudy        rain   \n",
      "96438  2016-09-09 09:00:00.000 +0200  Partly Cloudy        rain   \n",
      "96439  2016-09-09 10:00:00.000 +0200  Partly Cloudy        rain   \n",
      "96440  2016-09-09 11:00:00.000 +0200  Partly Cloudy        rain   \n",
      "96441  2016-09-09 12:00:00.000 +0200  Partly Cloudy        rain   \n",
      "96442  2016-09-09 13:00:00.000 +0200  Partly Cloudy        rain   \n",
      "96443  2016-09-09 14:00:00.000 +0200  Partly Cloudy        rain   \n",
      "96444  2016-09-09 15:00:00.000 +0200  Partly Cloudy        rain   \n",
      "96445  2016-09-09 16:00:00.000 +0200  Partly Cloudy        rain   \n",
      "96446  2016-09-09 17:00:00.000 +0200  Partly Cloudy        rain   \n",
      "96447  2016-09-09 18:00:00.000 +0200  Partly Cloudy        rain   \n",
      "96448  2016-09-09 19:00:00.000 +0200  Partly Cloudy        rain   \n",
      "96449  2016-09-09 20:00:00.000 +0200  Partly Cloudy        rain   \n",
      "96450  2016-09-09 21:00:00.000 +0200  Partly Cloudy        rain   \n",
      "96451  2016-09-09 22:00:00.000 +0200  Partly Cloudy        rain   \n",
      "96452  2016-09-09 23:00:00.000 +0200  Partly Cloudy        rain   \n",
      "\n",
      "       Temperature (C)  Apparent Temperature (C)  Humidity  Wind Speed (km/h)  \\\n",
      "0             9.472222                  7.388889      0.89            14.1197   \n",
      "1             9.355556                  7.227778      0.86            14.2646   \n",
      "2             9.377778                  9.377778      0.89             3.9284   \n",
      "3             8.288889                  5.944444      0.83            14.1036   \n",
      "4             8.755556                  6.977778      0.83            11.0446   \n",
      "5             9.222222                  7.111111      0.85            13.9587   \n",
      "6             7.733333                  5.522222      0.95            12.3648   \n",
      "7             8.772222                  6.527778      0.89            14.1519   \n",
      "8            10.822222                 10.822222      0.82            11.3183   \n",
      "9            13.772222                 13.772222      0.72            12.5258   \n",
      "10           16.016667                 16.016667      0.67            17.5651   \n",
      "11           17.144444                 17.144444      0.54            19.7869   \n",
      "12           17.800000                 17.800000      0.55            21.9443   \n",
      "13           17.333333                 17.333333      0.51            20.6885   \n",
      "14           18.877778                 18.877778      0.47            15.3755   \n",
      "15           18.911111                 18.911111      0.46            10.4006   \n",
      "16           15.388889                 15.388889      0.60            14.4095   \n",
      "17           15.550000                 15.550000      0.63            11.1573   \n",
      "18           14.255556                 14.255556      0.69             8.5169   \n",
      "19           13.144444                 13.144444      0.70             7.6314   \n",
      "20           11.550000                 11.550000      0.77             7.3899   \n",
      "21           11.183333                 11.183333      0.76             4.9266   \n",
      "22           10.116667                 10.116667      0.79             6.6493   \n",
      "23           10.200000                 10.200000      0.77             3.9284   \n",
      "24           10.422222                 10.422222      0.62            16.9855   \n",
      "25            9.911111                  7.566667      0.66            17.2109   \n",
      "26           11.183333                 11.183333      0.80            10.8192   \n",
      "27            7.155556                  5.044444      0.79            11.0768   \n",
      "28            6.111111                  4.816667      0.82             6.6493   \n",
      "29            6.788889                  4.272222      0.83            13.0088   \n",
      "...                ...                       ...       ...                ...   \n",
      "96423        27.800000                 27.050000      0.32             3.0751   \n",
      "96424        24.905556                 24.905556      0.51             0.0000   \n",
      "96425        22.366667                 22.366667      0.58             3.3327   \n",
      "96426        21.016667                 21.016667      0.64             3.2200   \n",
      "96427        19.927778                 19.927778      0.71             3.1556   \n",
      "96428        18.350000                 18.350000      0.77             3.2200   \n",
      "96429        17.755556                 17.755556      0.81             2.9624   \n",
      "96430        16.622222                 16.622222      0.87             3.4293   \n",
      "96431        16.144444                 16.144444      0.87             3.6547   \n",
      "96432        15.594444                 15.594444      0.87             3.2844   \n",
      "96433        15.011111                 15.011111      0.93             3.2039   \n",
      "96434        15.016667                 15.016667      0.90             2.7048   \n",
      "96435        13.872222                 13.872222      0.93             4.7495   \n",
      "96436        16.072222                 16.072222      0.88             2.7853   \n",
      "96437        19.561111                 19.561111      0.75             3.7191   \n",
      "96438        22.138889                 22.138889      0.65             7.7763   \n",
      "96439        22.872222                 22.872222      0.59             6.4239   \n",
      "96440        27.072222                 27.022222      0.42            12.0106   \n",
      "96441        28.866667                 28.216667      0.37            13.9265   \n",
      "96442        30.994444                 29.972222      0.33            15.6170   \n",
      "96443        30.894444                 29.450000      0.28            14.7798   \n",
      "96444        31.083333                 29.616667      0.28            15.5043   \n",
      "96445        31.083333                 29.611111      0.28            13.8943   \n",
      "96446        30.766667                 29.311111      0.28            14.2163   \n",
      "96447        28.838889                 27.850000      0.32            12.2038   \n",
      "96448        26.016667                 26.016667      0.43            10.9963   \n",
      "96449        24.583333                 24.583333      0.48            10.0947   \n",
      "96450        22.038889                 22.038889      0.56             8.9838   \n",
      "96451        21.522222                 21.522222      0.60            10.5294   \n",
      "96452        20.438889                 20.438889      0.61             5.8765   \n",
      "\n",
      "       Wind Bearing (degrees)  Visibility (km)  Loud Cover  \\\n",
      "0                       251.0          15.8263         0.0   \n",
      "1                       259.0          15.8263         0.0   \n",
      "2                       204.0          14.9569         0.0   \n",
      "3                       269.0          15.8263         0.0   \n",
      "4                       259.0          15.8263         0.0   \n",
      "5                       258.0          14.9569         0.0   \n",
      "6                       259.0           9.9820         0.0   \n",
      "7                       260.0           9.9820         0.0   \n",
      "8                       259.0           9.9820         0.0   \n",
      "9                       279.0           9.9820         0.0   \n",
      "10                      290.0          11.2056         0.0   \n",
      "11                      316.0          11.4471         0.0   \n",
      "12                      281.0          11.2700         0.0   \n",
      "13                      289.0          11.2700         0.0   \n",
      "14                      262.0          11.4471         0.0   \n",
      "15                      288.0          11.2700         0.0   \n",
      "16                      251.0          11.2700         0.0   \n",
      "17                      230.0          11.4471         0.0   \n",
      "18                      163.0          11.2056         0.0   \n",
      "19                      139.0          11.2056         0.0   \n",
      "20                      147.0          11.0285         0.0   \n",
      "21                      160.0           9.9820         0.0   \n",
      "22                      163.0          15.8263         0.0   \n",
      "23                      152.0          14.9569         0.0   \n",
      "24                      150.0          15.8263         0.0   \n",
      "25                      149.0          15.8263         0.0   \n",
      "26                      163.0          14.9569         0.0   \n",
      "27                      180.0          15.8263         0.0   \n",
      "28                      161.0          15.8263         0.0   \n",
      "29                      135.0          14.9569         0.0   \n",
      "...                       ...              ...         ...   \n",
      "96423                   120.0          16.1000         0.0   \n",
      "96424                     0.0          16.1000         0.0   \n",
      "96425                   135.0          15.5526         0.0   \n",
      "96426                   340.0          16.1000         0.0   \n",
      "96427                   302.0          16.1000         0.0   \n",
      "96428                    53.0          15.5526         0.0   \n",
      "96429                    12.0          16.1000         0.0   \n",
      "96430                   349.0          16.1000         0.0   \n",
      "96431                    16.0          15.1501         0.0   \n",
      "96432                    41.0          15.4399         0.0   \n",
      "96433                   341.0          15.8263         0.0   \n",
      "96434                   359.0          14.9569         0.0   \n",
      "96435                     0.0          15.8263         0.0   \n",
      "96436                    12.0          15.7297         0.0   \n",
      "96437                    12.0          14.9569         0.0   \n",
      "96438                    30.0          16.1000         0.0   \n",
      "96439                    49.0          16.1000         0.0   \n",
      "96440                    49.0          15.5526         0.0   \n",
      "96441                    61.0          16.1000         0.0   \n",
      "96442                    70.0          16.1000         0.0   \n",
      "96443                    43.0          15.5526         0.0   \n",
      "96444                    40.0          16.1000         0.0   \n",
      "96445                    40.0          16.1000         0.0   \n",
      "96446                    24.0          15.5526         0.0   \n",
      "96447                    21.0          16.1000         0.0   \n",
      "96448                    31.0          16.1000         0.0   \n",
      "96449                    20.0          15.5526         0.0   \n",
      "96450                    30.0          16.1000         0.0   \n",
      "96451                    20.0          16.1000         0.0   \n",
      "96452                    39.0          15.5204         0.0   \n",
      "\n",
      "       Pressure (millibars)                           Daily Summary  \n",
      "0                   1015.13       Partly cloudy throughout the day.  \n",
      "1                   1015.63       Partly cloudy throughout the day.  \n",
      "2                   1015.94       Partly cloudy throughout the day.  \n",
      "3                   1016.41       Partly cloudy throughout the day.  \n",
      "4                   1016.51       Partly cloudy throughout the day.  \n",
      "5                   1016.66       Partly cloudy throughout the day.  \n",
      "6                   1016.72       Partly cloudy throughout the day.  \n",
      "7                   1016.84       Partly cloudy throughout the day.  \n",
      "8                   1017.37       Partly cloudy throughout the day.  \n",
      "9                   1017.22       Partly cloudy throughout the day.  \n",
      "10                  1017.42       Partly cloudy throughout the day.  \n",
      "11                  1017.74       Partly cloudy throughout the day.  \n",
      "12                  1017.59       Partly cloudy throughout the day.  \n",
      "13                  1017.48       Partly cloudy throughout the day.  \n",
      "14                  1017.17       Partly cloudy throughout the day.  \n",
      "15                  1016.47       Partly cloudy throughout the day.  \n",
      "16                  1016.15       Partly cloudy throughout the day.  \n",
      "17                  1016.17       Partly cloudy throughout the day.  \n",
      "18                  1015.82       Partly cloudy throughout the day.  \n",
      "19                  1015.83       Partly cloudy throughout the day.  \n",
      "20                  1015.85       Partly cloudy throughout the day.  \n",
      "21                  1015.77       Partly cloudy throughout the day.  \n",
      "22                  1015.40       Partly cloudy throughout the day.  \n",
      "23                  1015.51       Partly cloudy throughout the day.  \n",
      "24                  1014.40       Mostly cloudy throughout the day.  \n",
      "25                  1014.20       Mostly cloudy throughout the day.  \n",
      "26                  1008.71       Mostly cloudy throughout the day.  \n",
      "27                  1014.47       Mostly cloudy throughout the day.  \n",
      "28                  1014.45       Mostly cloudy throughout the day.  \n",
      "29                  1014.49       Mostly cloudy throughout the day.  \n",
      "...                     ...                                     ...  \n",
      "96423               1014.04       Partly cloudy starting overnight.  \n",
      "96424               1014.14       Partly cloudy starting overnight.  \n",
      "96425               1014.34       Partly cloudy starting overnight.  \n",
      "96426               1014.73       Partly cloudy starting overnight.  \n",
      "96427               1014.63       Partly cloudy starting overnight.  \n",
      "96428               1014.68       Partly cloudy starting overnight.  \n",
      "96429               1014.65  Partly cloudy starting in the morning.  \n",
      "96430               1014.56  Partly cloudy starting in the morning.  \n",
      "96431               1014.69  Partly cloudy starting in the morning.  \n",
      "96432               1014.52  Partly cloudy starting in the morning.  \n",
      "96433               1014.37  Partly cloudy starting in the morning.  \n",
      "96434               1014.55  Partly cloudy starting in the morning.  \n",
      "96435               1014.66  Partly cloudy starting in the morning.  \n",
      "96436               1015.25  Partly cloudy starting in the morning.  \n",
      "96437               1015.28  Partly cloudy starting in the morning.  \n",
      "96438               1015.46  Partly cloudy starting in the morning.  \n",
      "96439               1015.65  Partly cloudy starting in the morning.  \n",
      "96440               1015.44  Partly cloudy starting in the morning.  \n",
      "96441               1015.35  Partly cloudy starting in the morning.  \n",
      "96442               1014.86  Partly cloudy starting in the morning.  \n",
      "96443               1014.66  Partly cloudy starting in the morning.  \n",
      "96444               1014.17  Partly cloudy starting in the morning.  \n",
      "96445               1013.97  Partly cloudy starting in the morning.  \n",
      "96446               1013.83  Partly cloudy starting in the morning.  \n",
      "96447               1014.07  Partly cloudy starting in the morning.  \n",
      "96448               1014.36  Partly cloudy starting in the morning.  \n",
      "96449               1015.16  Partly cloudy starting in the morning.  \n",
      "96450               1015.66  Partly cloudy starting in the morning.  \n",
      "96451               1015.95  Partly cloudy starting in the morning.  \n",
      "96452               1016.16  Partly cloudy starting in the morning.  \n",
      "\n",
      "[96453 rows x 12 columns]\n"
     ]
    }
   ],
   "source": [
    "print(data)"
   ]
  },
  {
   "cell_type": "code",
   "execution_count": 4,
   "metadata": {},
   "outputs": [
    {
     "name": "stdout",
     "output_type": "stream",
     "text": [
      "Formatted Date               object\n",
      "Summary                      object\n",
      "Precip Type                  object\n",
      "Temperature (C)             float64\n",
      "Apparent Temperature (C)    float64\n",
      "Humidity                    float64\n",
      "Wind Speed (km/h)           float64\n",
      "Wind Bearing (degrees)      float64\n",
      "Visibility (km)             float64\n",
      "Loud Cover                  float64\n",
      "Pressure (millibars)        float64\n",
      "Daily Summary                object\n",
      "dtype: object\n"
     ]
    }
   ],
   "source": [
    "print(data.dtypes)"
   ]
  },
  {
   "cell_type": "markdown",
   "metadata": {},
   "source": [
    "Extract day, month, year from formatted date."
   ]
  },
  {
   "cell_type": "code",
   "execution_count": 5,
   "metadata": {},
   "outputs": [],
   "source": [
    "data['Date'] = pd.to_datetime(data['Formatted Date'], errors='ignore', utc=True)"
   ]
  },
  {
   "cell_type": "code",
   "execution_count": 6,
   "metadata": {},
   "outputs": [],
   "source": [
    "data['Year'] = data['Date'].dt.year\n",
    "data['Month'] = data['Date'].dt.month\n",
    "data['Day'] = data['Date'].dt.day\n",
    "data['Hour'] = data['Date'].dt.hour"
   ]
  },
  {
   "cell_type": "code",
   "execution_count": 7,
   "metadata": {},
   "outputs": [
    {
     "data": {
      "text/html": [
       "<div>\n",
       "<style scoped>\n",
       "    .dataframe tbody tr th:only-of-type {\n",
       "        vertical-align: middle;\n",
       "    }\n",
       "\n",
       "    .dataframe tbody tr th {\n",
       "        vertical-align: top;\n",
       "    }\n",
       "\n",
       "    .dataframe thead th {\n",
       "        text-align: right;\n",
       "    }\n",
       "</style>\n",
       "<table border=\"1\" class=\"dataframe\">\n",
       "  <thead>\n",
       "    <tr style=\"text-align: right;\">\n",
       "      <th></th>\n",
       "      <th>Formatted Date</th>\n",
       "      <th>Summary</th>\n",
       "      <th>Precip Type</th>\n",
       "      <th>Temperature (C)</th>\n",
       "      <th>Apparent Temperature (C)</th>\n",
       "      <th>Humidity</th>\n",
       "      <th>Wind Speed (km/h)</th>\n",
       "      <th>Wind Bearing (degrees)</th>\n",
       "      <th>Visibility (km)</th>\n",
       "      <th>Loud Cover</th>\n",
       "      <th>Pressure (millibars)</th>\n",
       "      <th>Daily Summary</th>\n",
       "      <th>Date</th>\n",
       "      <th>Year</th>\n",
       "      <th>Month</th>\n",
       "      <th>Day</th>\n",
       "      <th>Hour</th>\n",
       "    </tr>\n",
       "  </thead>\n",
       "  <tbody>\n",
       "    <tr>\n",
       "      <th>0</th>\n",
       "      <td>2006-04-01 00:00:00.000 +0200</td>\n",
       "      <td>Partly Cloudy</td>\n",
       "      <td>rain</td>\n",
       "      <td>9.472222</td>\n",
       "      <td>7.388889</td>\n",
       "      <td>0.89</td>\n",
       "      <td>14.1197</td>\n",
       "      <td>251.0</td>\n",
       "      <td>15.8263</td>\n",
       "      <td>0.0</td>\n",
       "      <td>1015.13</td>\n",
       "      <td>Partly cloudy throughout the day.</td>\n",
       "      <td>2006-03-31 22:00:00+00:00</td>\n",
       "      <td>2006</td>\n",
       "      <td>3</td>\n",
       "      <td>31</td>\n",
       "      <td>22</td>\n",
       "    </tr>\n",
       "    <tr>\n",
       "      <th>1</th>\n",
       "      <td>2006-04-01 01:00:00.000 +0200</td>\n",
       "      <td>Partly Cloudy</td>\n",
       "      <td>rain</td>\n",
       "      <td>9.355556</td>\n",
       "      <td>7.227778</td>\n",
       "      <td>0.86</td>\n",
       "      <td>14.2646</td>\n",
       "      <td>259.0</td>\n",
       "      <td>15.8263</td>\n",
       "      <td>0.0</td>\n",
       "      <td>1015.63</td>\n",
       "      <td>Partly cloudy throughout the day.</td>\n",
       "      <td>2006-03-31 23:00:00+00:00</td>\n",
       "      <td>2006</td>\n",
       "      <td>3</td>\n",
       "      <td>31</td>\n",
       "      <td>23</td>\n",
       "    </tr>\n",
       "    <tr>\n",
       "      <th>2</th>\n",
       "      <td>2006-04-01 02:00:00.000 +0200</td>\n",
       "      <td>Mostly Cloudy</td>\n",
       "      <td>rain</td>\n",
       "      <td>9.377778</td>\n",
       "      <td>9.377778</td>\n",
       "      <td>0.89</td>\n",
       "      <td>3.9284</td>\n",
       "      <td>204.0</td>\n",
       "      <td>14.9569</td>\n",
       "      <td>0.0</td>\n",
       "      <td>1015.94</td>\n",
       "      <td>Partly cloudy throughout the day.</td>\n",
       "      <td>2006-04-01 00:00:00+00:00</td>\n",
       "      <td>2006</td>\n",
       "      <td>4</td>\n",
       "      <td>1</td>\n",
       "      <td>0</td>\n",
       "    </tr>\n",
       "    <tr>\n",
       "      <th>3</th>\n",
       "      <td>2006-04-01 03:00:00.000 +0200</td>\n",
       "      <td>Partly Cloudy</td>\n",
       "      <td>rain</td>\n",
       "      <td>8.288889</td>\n",
       "      <td>5.944444</td>\n",
       "      <td>0.83</td>\n",
       "      <td>14.1036</td>\n",
       "      <td>269.0</td>\n",
       "      <td>15.8263</td>\n",
       "      <td>0.0</td>\n",
       "      <td>1016.41</td>\n",
       "      <td>Partly cloudy throughout the day.</td>\n",
       "      <td>2006-04-01 01:00:00+00:00</td>\n",
       "      <td>2006</td>\n",
       "      <td>4</td>\n",
       "      <td>1</td>\n",
       "      <td>1</td>\n",
       "    </tr>\n",
       "    <tr>\n",
       "      <th>4</th>\n",
       "      <td>2006-04-01 04:00:00.000 +0200</td>\n",
       "      <td>Mostly Cloudy</td>\n",
       "      <td>rain</td>\n",
       "      <td>8.755556</td>\n",
       "      <td>6.977778</td>\n",
       "      <td>0.83</td>\n",
       "      <td>11.0446</td>\n",
       "      <td>259.0</td>\n",
       "      <td>15.8263</td>\n",
       "      <td>0.0</td>\n",
       "      <td>1016.51</td>\n",
       "      <td>Partly cloudy throughout the day.</td>\n",
       "      <td>2006-04-01 02:00:00+00:00</td>\n",
       "      <td>2006</td>\n",
       "      <td>4</td>\n",
       "      <td>1</td>\n",
       "      <td>2</td>\n",
       "    </tr>\n",
       "  </tbody>\n",
       "</table>\n",
       "</div>"
      ],
      "text/plain": [
       "                  Formatted Date        Summary Precip Type  Temperature (C)  \\\n",
       "0  2006-04-01 00:00:00.000 +0200  Partly Cloudy        rain         9.472222   \n",
       "1  2006-04-01 01:00:00.000 +0200  Partly Cloudy        rain         9.355556   \n",
       "2  2006-04-01 02:00:00.000 +0200  Mostly Cloudy        rain         9.377778   \n",
       "3  2006-04-01 03:00:00.000 +0200  Partly Cloudy        rain         8.288889   \n",
       "4  2006-04-01 04:00:00.000 +0200  Mostly Cloudy        rain         8.755556   \n",
       "\n",
       "   Apparent Temperature (C)  Humidity  Wind Speed (km/h)  \\\n",
       "0                  7.388889      0.89            14.1197   \n",
       "1                  7.227778      0.86            14.2646   \n",
       "2                  9.377778      0.89             3.9284   \n",
       "3                  5.944444      0.83            14.1036   \n",
       "4                  6.977778      0.83            11.0446   \n",
       "\n",
       "   Wind Bearing (degrees)  Visibility (km)  Loud Cover  Pressure (millibars)  \\\n",
       "0                   251.0          15.8263         0.0               1015.13   \n",
       "1                   259.0          15.8263         0.0               1015.63   \n",
       "2                   204.0          14.9569         0.0               1015.94   \n",
       "3                   269.0          15.8263         0.0               1016.41   \n",
       "4                   259.0          15.8263         0.0               1016.51   \n",
       "\n",
       "                       Daily Summary                      Date  Year  Month  \\\n",
       "0  Partly cloudy throughout the day. 2006-03-31 22:00:00+00:00  2006      3   \n",
       "1  Partly cloudy throughout the day. 2006-03-31 23:00:00+00:00  2006      3   \n",
       "2  Partly cloudy throughout the day. 2006-04-01 00:00:00+00:00  2006      4   \n",
       "3  Partly cloudy throughout the day. 2006-04-01 01:00:00+00:00  2006      4   \n",
       "4  Partly cloudy throughout the day. 2006-04-01 02:00:00+00:00  2006      4   \n",
       "\n",
       "   Day  Hour  \n",
       "0   31    22  \n",
       "1   31    23  \n",
       "2    1     0  \n",
       "3    1     1  \n",
       "4    1     2  "
      ]
     },
     "execution_count": 7,
     "metadata": {},
     "output_type": "execute_result"
    }
   ],
   "source": [
    "data.head()"
   ]
  },
  {
   "cell_type": "code",
   "execution_count": 8,
   "metadata": {},
   "outputs": [],
   "source": [
    "summary = []\n",
    "daily_summary = []\n",
    "for index, row in data.iterrows():\n",
    "    if row['Summary'] not in summary:\n",
    "        summary.append(row['Summary'])\n",
    "    if row['Daily Summary'] not in daily_summary:\n",
    "        daily_summary.append(row['Daily Summary'])"
   ]
  },
  {
   "cell_type": "code",
   "execution_count": 9,
   "metadata": {},
   "outputs": [
    {
     "name": "stdout",
     "output_type": "stream",
     "text": [
      "['Partly Cloudy', 'Mostly Cloudy', 'Overcast', 'Foggy', 'Breezy and Mostly Cloudy', 'Clear', 'Breezy and Partly Cloudy', 'Breezy and Overcast', 'Humid and Mostly Cloudy', 'Humid and Partly Cloudy', 'Windy and Foggy', 'Windy and Overcast', 'Breezy and Foggy', 'Windy and Partly Cloudy', 'Breezy', 'Dry and Partly Cloudy', 'Windy and Mostly Cloudy', 'Dangerously Windy and Partly Cloudy', 'Dry', 'Windy', 'Humid and Overcast', 'Light Rain', 'Drizzle', 'Windy and Dry', 'Dry and Mostly Cloudy', 'Breezy and Dry', 'Rain']\n",
      "['Partly cloudy throughout the day.', 'Mostly cloudy throughout the day.', 'Foggy in the evening.', 'Foggy overnight and breezy in the morning.', 'Overcast throughout the day.', 'Partly cloudy until night.', 'Mostly cloudy until night.', 'Foggy starting overnight continuing until morning.', 'Foggy in the morning.', 'Partly cloudy until evening.', 'Partly cloudy starting in the morning.', 'Mostly cloudy starting overnight continuing until night.', 'Mostly cloudy until evening.', 'Partly cloudy starting in the morning continuing until evening.', 'Partly cloudy starting in the afternoon.', 'Partly cloudy starting overnight.', 'Partly cloudy until morning.', 'Partly cloudy starting overnight continuing until night.', 'Partly cloudy starting in the afternoon continuing until night.', 'Mostly cloudy starting overnight.', 'Partly cloudy until afternoon.', 'Mostly cloudy until night and breezy in the afternoon.', 'Foggy starting in the evening.', 'Foggy throughout the day.', 'Foggy starting in the evening continuing until night.', 'Mostly cloudy until morning.', 'Foggy starting in the morning continuing until evening.', 'Foggy starting overnight continuing until afternoon.', 'Partly cloudy starting in the morning continuing until afternoon.', 'Foggy starting overnight.', 'Foggy until morning.', 'Foggy starting overnight continuing until evening.', 'Foggy starting in the afternoon.', 'Partly cloudy starting overnight continuing until afternoon.', 'Partly cloudy starting in the morning continuing until night.', 'Overcast until night.', 'Mostly cloudy starting overnight continuing until evening.', 'Foggy overnight.', 'Partly cloudy in the morning.', 'Mostly cloudy starting in the morning.', 'Foggy starting in the afternoon continuing until evening.', 'Mostly cloudy until afternoon.', 'Foggy starting overnight continuing until night.', 'Mostly cloudy throughout the day and breezy in the evening.', 'Foggy starting in the morning continuing until afternoon.', 'Partly cloudy in the afternoon.', 'Clear throughout the day.', 'Partly cloudy starting in the afternoon continuing until evening.', 'Partly cloudy overnight.', 'Overcast until evening.', 'Foggy in the morning and breezy starting in the afternoon continuing until night.', 'Breezy starting overnight continuing until afternoon and foggy starting in the morning continuing until evening.', 'Partly cloudy starting overnight continuing until morning.', 'Mostly cloudy throughout the day and breezy in the afternoon.', 'Mostly cloudy starting overnight and breezy in the afternoon.', 'Partly cloudy throughout the day and breezy starting in the morning continuing until night.', 'Mostly cloudy throughout the day and breezy in the morning.', 'Partly cloudy starting in the evening continuing until night.', 'Mostly cloudy until night and breezy starting in the morning continuing until afternoon.', 'Partly cloudy starting in the morning continuing until evening and breezy starting in the morning continuing until afternoon.', 'Partly cloudy throughout the day and breezy starting in the morning continuing until afternoon.', 'Partly cloudy throughout the day and breezy starting in the morning continuing until evening.', 'Foggy until afternoon.', 'Overcast until night and breezy overnight.', 'Breezy until morning and mostly cloudy throughout the day.', 'Mostly cloudy starting in the morning continuing until night.', 'Breezy starting overnight continuing until morning and partly cloudy starting overnight continuing until evening.', 'Partly cloudy in the evening.', 'Mostly cloudy starting overnight continuing until afternoon.', 'Mostly cloudy starting in the morning continuing until afternoon.', 'Mostly cloudy starting in the afternoon.', 'Mostly cloudy starting in the morning continuing until evening.', 'Partly cloudy starting overnight continuing until afternoon and breezy in the afternoon.', 'Partly cloudy starting overnight and breezy in the afternoon.', 'Mostly cloudy starting in the morning and breezy in the evening.', 'Foggy starting in the afternoon continuing until night.', 'Foggy until night.', 'Foggy starting in the morning continuing until night.', 'Foggy until evening.', 'Foggy starting in the morning.', 'Partly cloudy starting overnight continuing until evening.', 'Partly cloudy starting overnight continuing until evening and breezy starting in the morning continuing until evening.', 'Breezy starting overnight continuing until morning and foggy in the evening.', 'Mostly cloudy throughout the day and breezy starting in the morning continuing until evening.', 'Partly cloudy until evening and breezy starting in the morning continuing until afternoon.', 'Mostly cloudy starting in the afternoon continuing until night.', 'Breezy starting overnight continuing until afternoon and mostly cloudy starting overnight continuing until evening.', 'Mostly cloudy throughout the day and windy starting in the morning continuing until evening.', 'Breezy and partly cloudy in the afternoon.', 'Mostly cloudy starting overnight and breezy starting in the morning continuing until afternoon.', 'Partly cloudy until night and breezy starting in the morning continuing until afternoon.', 'Breezy and mostly cloudy overnight.', 'Mostly cloudy throughout the day and breezy overnight.', 'Mostly cloudy throughout the day and breezy starting in the morning continuing until afternoon.', 'Partly cloudy throughout the day and breezy in the morning.', 'Partly cloudy starting in the morning continuing until evening and breezy starting in the afternoon continuing until evening.', 'Partly cloudy throughout the day and breezy starting in the afternoon continuing until evening.', 'Mostly cloudy starting overnight and breezy in the morning.', 'Partly cloudy starting in the afternoon and breezy in the afternoon.', 'Partly cloudy starting in the morning and breezy in the evening.', 'Partly cloudy until evening and breezy in the morning.', 'Partly cloudy starting overnight continuing until evening and breezy starting in the morning continuing until afternoon.', 'Partly cloudy starting overnight continuing until evening and breezy in the evening.', 'Mostly cloudy throughout the day and breezy starting in the evening.', 'Mostly cloudy throughout the day and windy starting in the morning continuing until night.', 'Breezy starting overnight continuing until morning and partly cloudy starting in the morning.', 'Mostly cloudy starting in the morning and breezy overnight.', 'Overcast throughout the day and breezy starting overnight continuing until morning.', 'Partly cloudy throughout the day and breezy in the evening.', 'Mostly cloudy until evening and breezy starting in the morning continuing until afternoon.', 'Mostly cloudy until night and breezy in the evening.', 'Partly cloudy starting in the evening.', 'Overcast starting in the morning.', 'Mostly cloudy starting overnight continuing until evening and breezy starting overnight continuing until morning.', 'Partly cloudy starting overnight continuing until morning and breezy starting in the morning continuing until afternoon.', 'Partly cloudy until evening and breezy starting in the morning continuing until evening.', 'Breezy starting in the morning continuing until afternoon and partly cloudy starting in the morning.', 'Partly cloudy starting in the morning and breezy starting in the afternoon continuing until evening.', 'Mostly cloudy starting overnight continuing until morning.', 'Mostly cloudy throughout the day and breezy starting overnight continuing until afternoon.', 'Breezy starting overnight continuing until morning and foggy overnight.', 'Mostly cloudy throughout the day and breezy starting overnight continuing until morning.', 'Overcast throughout the day and breezy in the morning.', 'Overcast throughout the day and breezy in the evening.', 'Mostly cloudy starting in the morning continuing until night and breezy in the afternoon.', 'Mostly cloudy until night and breezy starting in the evening continuing until night.', 'Partly cloudy until night and breezy in the morning.', 'Partly cloudy until evening and breezy overnight.', 'Partly cloudy starting overnight continuing until night and windy starting in the morning continuing until afternoon.', 'Breezy starting in the morning continuing until afternoon and mostly cloudy starting in the morning.', 'Foggy starting overnight continuing until morning and breezy starting in the evening.', 'Mostly cloudy until night and breezy starting in the afternoon.', 'Foggy in the afternoon.', 'Mostly cloudy until night and breezy starting in the afternoon continuing until night.', 'Foggy starting overnight continuing until morning and breezy starting in the evening continuing until night.', 'Breezy until afternoon and mostly cloudy throughout the day.', 'Mostly cloudy throughout the day and breezy starting in the morning continuing until night.', 'Partly cloudy starting overnight continuing until evening and breezy in the morning.', 'Mostly cloudy starting in the morning and breezy in the afternoon.', 'Mostly cloudy starting overnight continuing until night and breezy starting in the morning continuing until evening.', 'Foggy starting overnight continuing until morning and breezy starting in the morning continuing until afternoon.', 'Mostly cloudy until evening and windy starting in the morning continuing until afternoon.', 'Foggy starting overnight continuing until afternoon and breezy in the morning.', 'Foggy starting in the morning continuing until afternoon and breezy starting in the evening.', 'Partly cloudy starting overnight and breezy starting in the morning continuing until afternoon.', 'Foggy starting overnight continuing until morning and breezy in the afternoon.', 'Mostly cloudy starting overnight and breezy starting in the afternoon continuing until evening.', 'Overcast throughout the day and breezy starting overnight continuing until afternoon.', 'Partly cloudy starting in the morning continuing until evening and breezy in the afternoon.', 'Partly cloudy starting in the morning continuing until night and breezy starting in the afternoon continuing until evening.', 'Mostly cloudy until night and breezy starting in the evening.', 'Breezy in the morning and mostly cloudy starting in the morning.', 'Mostly cloudy until night and breezy starting in the morning continuing until evening.', 'Partly cloudy starting overnight continuing until evening and windy starting in the morning continuing until evening.', 'Breezy in the morning and partly cloudy starting in the evening continuing until night.', 'Partly cloudy overnight and breezy starting in the morning continuing until afternoon.', 'Light rain in the morning.', 'Light rain until morning.', 'Light rain in the morning and afternoon.', 'Partly cloudy starting in the morning continuing until night and breezy starting in the morning continuing until afternoon.', 'Breezy starting in the afternoon continuing until night and mostly cloudy starting in the evening.', 'Mostly cloudy throughout the day and breezy starting in the evening continuing until night.', 'Foggy starting in the afternoon and breezy starting in the afternoon continuing until evening.', 'Breezy and foggy until morning.', 'Mostly cloudy until night and breezy starting overnight continuing until morning.', 'Partly cloudy starting overnight continuing until night and breezy in the morning.', 'Partly cloudy starting overnight continuing until night and breezy in the afternoon.', 'Mostly cloudy starting in the morning and breezy starting in the afternoon continuing until evening.', 'Partly cloudy starting overnight and breezy starting in the evening.', 'Breezy overnight and overcast throughout the day.', 'Partly cloudy until night and breezy in the afternoon.', 'Mostly cloudy starting overnight and breezy starting in the evening.', 'Breezy overnight and partly cloudy until evening.', 'Mostly cloudy starting in the evening.', 'Mostly cloudy throughout the day and breezy starting in the afternoon.', 'Mostly cloudy throughout the day and breezy starting in the afternoon continuing until evening.', 'Mostly cloudy until night and windy starting in the morning continuing until afternoon.', 'Breezy and foggy starting in the evening.', 'Breezy overnight and partly cloudy throughout the day.', 'Overcast throughout the day and breezy starting in the evening.', 'Breezy until evening and foggy in the morning.', 'Breezy overnight and mostly cloudy throughout the day.', 'Partly cloudy until evening and breezy in the afternoon.', 'Partly cloudy starting in the morning and breezy starting in the morning continuing until afternoon.', 'Mostly cloudy until evening and breezy in the evening.', 'Windy in the afternoon.', 'Overcast until morning.', 'Mostly cloudy overnight.', 'Foggy starting in the morning continuing until evening and breezy in the evening.', 'Breezy starting overnight continuing until morning.', 'Breezy starting in the afternoon continuing until evening and foggy starting in the evening.', 'Mostly cloudy until night and breezy overnight.', 'Mostly cloudy starting in the morning and windy in the evening.', 'Partly cloudy throughout the day and windy starting in the morning continuing until afternoon.', 'Breezy until afternoon and overcast throughout the day.', 'Breezy in the morning and foggy in the evening.', 'Breezy starting in the afternoon continuing until evening and foggy in the evening.', 'Breezy starting in the morning continuing until night.', 'Breezy in the morning and mostly cloudy starting in the evening.', 'Mostly cloudy until evening and breezy in the afternoon.', 'Mostly cloudy until night and breezy starting in the afternoon continuing until evening.', 'Mostly cloudy until evening and breezy starting overnight continuing until morning.', 'Overcast throughout the day and breezy in the afternoon.', 'Overcast throughout the day and breezy starting in the morning continuing until evening.', 'Overcast throughout the day and breezy overnight.', 'Overcast starting in the afternoon.', 'Partly cloudy throughout the day and breezy in the afternoon.', 'Light rain starting overnight.', 'Drizzle starting in the evening.', 'Drizzle until morning.', 'Rain throughout the day.', 'Rain until morning.', 'Light rain overnight.', 'Rain until afternoon.']\n",
      "Summary has 27 elements.\n",
      "Daily Summary has 214 elements.\n"
     ]
    }
   ],
   "source": [
    "print(summary)\n",
    "print(daily_summary)\n",
    "print('Summary has', len(summary), 'elements.\\nDaily Summary has', len(daily_summary), 'elements.')"
   ]
  },
  {
   "cell_type": "code",
   "execution_count": 10,
   "metadata": {},
   "outputs": [],
   "source": [
    "# Plot the correlation between columns\n",
    "#f, ax = plt.subplots(figsize=(18, 18))\n",
    "#sns.heatmap(data.corr(), annot=True, linewidths=5, fmt='.1f', ax=ax)"
   ]
  },
  {
   "cell_type": "markdown",
   "metadata": {},
   "source": [
    "Check if there is any missing value and if there is find out in which column."
   ]
  },
  {
   "cell_type": "code",
   "execution_count": 11,
   "metadata": {},
   "outputs": [
    {
     "data": {
      "text/plain": [
       "Formatted Date              False\n",
       "Summary                     False\n",
       "Precip Type                  True\n",
       "Temperature (C)             False\n",
       "Apparent Temperature (C)    False\n",
       "Humidity                    False\n",
       "Wind Speed (km/h)           False\n",
       "Wind Bearing (degrees)      False\n",
       "Visibility (km)             False\n",
       "Loud Cover                  False\n",
       "Pressure (millibars)        False\n",
       "Daily Summary               False\n",
       "Date                        False\n",
       "Year                        False\n",
       "Month                       False\n",
       "Day                         False\n",
       "Hour                        False\n",
       "dtype: bool"
      ]
     },
     "execution_count": 11,
     "metadata": {},
     "output_type": "execute_result"
    }
   ],
   "source": [
    "data.isnull().any()"
   ]
  },
  {
   "cell_type": "markdown",
   "metadata": {},
   "source": [
    "Clear missing values"
   ]
  },
  {
   "cell_type": "code",
   "execution_count": 12,
   "metadata": {},
   "outputs": [
    {
     "data": {
      "text/plain": [
       "Formatted Date              False\n",
       "Summary                     False\n",
       "Precip Type                 False\n",
       "Temperature (C)             False\n",
       "Apparent Temperature (C)    False\n",
       "Humidity                    False\n",
       "Wind Speed (km/h)           False\n",
       "Wind Bearing (degrees)      False\n",
       "Visibility (km)             False\n",
       "Loud Cover                  False\n",
       "Pressure (millibars)        False\n",
       "Daily Summary               False\n",
       "Date                        False\n",
       "Year                        False\n",
       "Month                       False\n",
       "Day                         False\n",
       "Hour                        False\n",
       "dtype: bool"
      ]
     },
     "execution_count": 12,
     "metadata": {},
     "output_type": "execute_result"
    }
   ],
   "source": [
    "filtered_data = data.dropna()\n",
    "filtered_data.isnull().any()"
   ]
  },
  {
   "cell_type": "markdown",
   "metadata": {},
   "source": [
    "Convert categorical labels to numerical labels."
   ]
  },
  {
   "cell_type": "code",
   "execution_count": 13,
   "metadata": {},
   "outputs": [],
   "source": [
    "from sklearn.preprocessing import LabelEncoder\n",
    "\n",
    "labelEncoder = LabelEncoder()\n",
    "data['Precip Type'] = labelEncoder.fit_transform(data['Precip Type'].fillna('-1'))"
   ]
  },
  {
   "cell_type": "code",
   "execution_count": 14,
   "metadata": {},
   "outputs": [
    {
     "name": "stdout",
     "output_type": "stream",
     "text": [
      "0        1\n",
      "1        1\n",
      "2        1\n",
      "3        1\n",
      "4        1\n",
      "5        1\n",
      "6        1\n",
      "7        1\n",
      "8        1\n",
      "9        1\n",
      "10       1\n",
      "11       1\n",
      "12       1\n",
      "13       1\n",
      "14       1\n",
      "15       1\n",
      "16       1\n",
      "17       1\n",
      "18       1\n",
      "19       1\n",
      "20       1\n",
      "21       1\n",
      "22       1\n",
      "23       1\n",
      "24       1\n",
      "25       1\n",
      "26       1\n",
      "27       1\n",
      "28       1\n",
      "29       1\n",
      "        ..\n",
      "96423    1\n",
      "96424    1\n",
      "96425    1\n",
      "96426    1\n",
      "96427    1\n",
      "96428    1\n",
      "96429    1\n",
      "96430    1\n",
      "96431    1\n",
      "96432    1\n",
      "96433    1\n",
      "96434    1\n",
      "96435    1\n",
      "96436    1\n",
      "96437    1\n",
      "96438    1\n",
      "96439    1\n",
      "96440    1\n",
      "96441    1\n",
      "96442    1\n",
      "96443    1\n",
      "96444    1\n",
      "96445    1\n",
      "96446    1\n",
      "96447    1\n",
      "96448    1\n",
      "96449    1\n",
      "96450    1\n",
      "96451    1\n",
      "96452    1\n",
      "Name: Precip Type, Length: 96453, dtype: int32\n"
     ]
    }
   ],
   "source": [
    "print(data['Precip Type'])"
   ]
  },
  {
   "cell_type": "markdown",
   "metadata": {},
   "source": [
    "Import scikit-learn"
   ]
  },
  {
   "cell_type": "code",
   "execution_count": 15,
   "metadata": {},
   "outputs": [],
   "source": [
    "from sklearn.model_selection import train_test_split"
   ]
  },
  {
   "cell_type": "markdown",
   "metadata": {},
   "source": [
    "Split data into train and test."
   ]
  },
  {
   "cell_type": "code",
   "execution_count": 16,
   "metadata": {},
   "outputs": [
    {
     "name": "stdout",
     "output_type": "stream",
     "text": [
      "X_train\n",
      "----------------------------------------------------------------------------------\n",
      "        Temperature (C)  Apparent Temperature (C)  Humidity  Wind Speed (km/h)  \\\n",
      "6532         10.555556                 10.555556      0.93             5.8443   \n",
      "12382         7.144444                  4.627778      0.89            13.4918   \n",
      "54699         0.000000                  0.000000      1.00             3.0751   \n",
      "52600        22.733333                 22.733333      0.42            17.2914   \n",
      "93864         9.888889                  9.888889      0.84             3.2200   \n",
      "9872         24.722222                 24.722222      0.66            14.7959   \n",
      "67326        12.666667                 12.666667      0.77            22.1053   \n",
      "5082         20.138889                 20.138889      0.45             7.7280   \n",
      "57282        22.172222                 22.172222      0.50            10.5938   \n",
      "82313         2.061111                 -1.655556      0.81            13.8782   \n",
      "68735        11.183333                 11.183333      0.93             3.6064   \n",
      "80121        31.066667                 30.461111      0.36            12.3648   \n",
      "42439         4.822222                  4.822222      0.99             3.2844   \n",
      "30510        17.222222                 17.222222      0.87             4.8300   \n",
      "53432        15.966667                 15.966667      0.74             9.3541   \n",
      "53056        22.777778                 22.777778      0.37            17.7100   \n",
      "46496        -3.816667                 -7.572222      0.84             9.0965   \n",
      "46686        -2.222222                 -2.222222      1.00             3.2683   \n",
      "2920          1.338889                  1.338889      0.68             4.4597   \n",
      "10853         2.822222                 -1.672222      0.82            20.0445   \n",
      "45932         7.894444                  6.244444      0.89             9.4346   \n",
      "7371          9.494444                  8.861111      0.86             6.1663   \n",
      "68387         1.138889                 -4.788889      0.85            28.2394   \n",
      "28633        -1.077778                 -4.988889      0.88            11.5920   \n",
      "51846         6.161111                  3.533333      0.86            12.8478   \n",
      "49016         3.894444                  0.850000      0.89            12.4131   \n",
      "10390        -4.494444                 -9.766667      0.83            14.2163   \n",
      "59700        14.894444                 14.894444      0.67            13.3469   \n",
      "72981         5.744444                  2.383333      0.83            17.1626   \n",
      "23138         7.633333                  5.605556      0.72            11.1734   \n",
      "...                ...                       ...       ...                ...   \n",
      "17205        12.083333                 12.083333      0.63             3.2039   \n",
      "31749         3.888889                 -0.011111      0.57            17.7100   \n",
      "83870        26.238889                 26.238889      0.63            10.8353   \n",
      "72820         0.461111                 -1.511111      0.95             6.0858   \n",
      "41269        23.616667                 23.616667      0.47            18.1125   \n",
      "11064         7.755556                  6.844444      1.00             6.1985   \n",
      "26782        11.666667                 11.666667      0.46            25.7600   \n",
      "9661         31.088889                 29.472222      0.26            13.4757   \n",
      "95310        10.361111                 10.361111      0.85            18.4345   \n",
      "95803        19.905556                 19.905556      0.71             6.2951   \n",
      "78467        25.533333                 25.533333      0.56            13.7011   \n",
      "45939         8.427778                  5.705556      0.80            17.2914   \n",
      "15235        14.372222                 14.372222      0.89             9.1770   \n",
      "63449         2.800000                  0.238889      0.77             9.1931   \n",
      "41188        12.638889                 12.638889      0.81             9.5956   \n",
      "11404        -2.616667                 -7.588889      0.62            14.8281   \n",
      "75889         6.138889                  3.316667      0.86            14.0070   \n",
      "56570        19.488889                 19.488889      0.55            10.4811   \n",
      "343           8.850000                  8.850000      0.99             3.4776   \n",
      "69021        12.222222                 12.222222      0.93             3.3649   \n",
      "27898        -1.044444                 -5.800000      0.83            15.6331   \n",
      "90602         3.677778                  0.400000      1.00            13.4757   \n",
      "81611         7.755556                  5.300000      0.83            14.0231   \n",
      "28612         0.522222                 -4.633333      0.83            20.4953   \n",
      "18589        29.927778                 29.105556      0.35            15.4560   \n",
      "72065         2.172222                 -2.133333      0.79            17.5651   \n",
      "55551         2.222222                 -0.561111      0.92             9.6600   \n",
      "63089        -0.138889                 -0.138889      0.83             3.3649   \n",
      "60318         4.044444                  2.105556      1.00             7.7119   \n",
      "82963        26.994444                 27.561111      0.52            12.7995   \n",
      "\n",
      "       Wind Bearing (degrees)  Visibility (km)  Loud Cover  \\\n",
      "6532                    318.0          14.1680         0.0   \n",
      "12382                   180.0          14.4417         0.0   \n",
      "54699                    30.0           1.8837         0.0   \n",
      "52600                   291.0           9.9820         0.0   \n",
      "93864                   320.0          16.0517         0.0   \n",
      "9872                    126.0           9.9820         0.0   \n",
      "67326                   311.0          10.0464         0.0   \n",
      "5082                    358.0           9.9820         0.0   \n",
      "57282                   210.0          11.2700         0.0   \n",
      "82313                   150.0           6.8586         0.0   \n",
      "68735                    57.0           5.8765         0.0   \n",
      "80121                   191.0          16.1000         0.0   \n",
      "42439                    12.0           4.2504         0.0   \n",
      "30510                    20.0           9.9820         0.0   \n",
      "53432                    48.0           9.9820         0.0   \n",
      "53056                   200.0           9.9820         0.0   \n",
      "46496                     0.0           8.0017         0.0   \n",
      "46686                   109.0           1.6905         0.0   \n",
      "2920                    288.0           9.9820         0.0   \n",
      "10853                   290.0           9.9820         0.0   \n",
      "45932                   209.0           9.9820         0.0   \n",
      "7371                    100.0          14.8120         0.0   \n",
      "68387                   310.0           9.9820         0.0   \n",
      "28633                   309.0           7.2289         0.0   \n",
      "51846                   270.0           9.9820         0.0   \n",
      "49016                   150.0           4.9427         0.0   \n",
      "10390                    18.0          14.1680         0.0   \n",
      "59700                   114.0          10.3523         0.0   \n",
      "72981                   170.0           7.7280         0.0   \n",
      "23138                    68.0          15.8263         0.0   \n",
      "...                       ...              ...         ...   \n",
      "17205                    39.0           9.9820         0.0   \n",
      "31749                    20.0          16.1000         0.0   \n",
      "83870                   357.0          10.3523         0.0   \n",
      "72820                   141.0           9.4346         0.0   \n",
      "41269                     8.0          11.4471         0.0   \n",
      "11064                   249.0           0.6279         0.0   \n",
      "26782                   150.0          16.1000         0.0   \n",
      "9661                    318.0          11.2056         0.0   \n",
      "95310                   153.0           9.7566         0.0   \n",
      "95803                   310.0          16.1000         0.0   \n",
      "78467                   346.0          15.3111         0.0   \n",
      "45939                   189.0          15.8263         0.0   \n",
      "15235                   109.0           5.5545         0.0   \n",
      "63449                   159.0          15.4560         0.0   \n",
      "41188                   187.0          11.6886         0.0   \n",
      "11404                   140.0          14.9569         0.0   \n",
      "75889                     0.0           9.9820         0.0   \n",
      "56570                    36.0          14.9569         0.0   \n",
      "343                     295.0           1.7549         0.0   \n",
      "69021                   191.0           2.2057         0.0   \n",
      "27898                    30.0          10.0142         0.0   \n",
      "90602                   139.0           4.7978         0.0   \n",
      "81611                   330.0           7.1323         0.0   \n",
      "28612                   329.0          14.7798         0.0   \n",
      "18589                     0.0           9.9820         0.0   \n",
      "72065                   300.0           9.9820         0.0   \n",
      "55551                   320.0          11.2700         0.0   \n",
      "63089                   111.0           5.9248         0.0   \n",
      "60318                   319.0           2.9624         0.0   \n",
      "82963                   340.0           9.9820         0.0   \n",
      "\n",
      "       Pressure (millibars)  \n",
      "6532                1016.82  \n",
      "12382               1018.48  \n",
      "54699                999.35  \n",
      "52600               1015.11  \n",
      "93864               1018.55  \n",
      "9872                1015.12  \n",
      "67326               1010.79  \n",
      "5082                1020.81  \n",
      "57282               1015.30  \n",
      "82313                999.77  \n",
      "68735               1013.76  \n",
      "80121               1018.68  \n",
      "42439               1016.58  \n",
      "30510               1018.10  \n",
      "53432               1016.13  \n",
      "53056               1016.70  \n",
      "46496               1028.64  \n",
      "46686               1019.89  \n",
      "2920                1032.04  \n",
      "10853               1005.34  \n",
      "45932               1011.01  \n",
      "7371                1022.40  \n",
      "68387               1010.50  \n",
      "28633               1009.19  \n",
      "51846               1010.23  \n",
      "49016               1023.46  \n",
      "10390               1028.76  \n",
      "59700               1005.20  \n",
      "72981               1011.09  \n",
      "23138               1007.89  \n",
      "...                     ...  \n",
      "17205               1025.61  \n",
      "31749               1021.00  \n",
      "83870               1019.71  \n",
      "72820               1022.79  \n",
      "41269               1014.17  \n",
      "11064               1008.92  \n",
      "26782               1022.70  \n",
      "9661                1013.32  \n",
      "95310               1014.43  \n",
      "95803               1018.14  \n",
      "78467               1009.43  \n",
      "45939               1007.17  \n",
      "15235               1010.32  \n",
      "63449               1025.08  \n",
      "41188               1011.73  \n",
      "11404               1018.81  \n",
      "75889               1016.56  \n",
      "56570               1011.42  \n",
      "343                 1017.36  \n",
      "69021               1022.27  \n",
      "27898               1020.12  \n",
      "90602               1004.19  \n",
      "81611               1018.24  \n",
      "28612               1004.40  \n",
      "18589               1018.69  \n",
      "72065                  0.00  \n",
      "55551               1024.50  \n",
      "63089               1029.83  \n",
      "60318               1020.74  \n",
      "82963               1006.83  \n",
      "\n",
      "[64623 rows x 8 columns] \n",
      "\n",
      "X_test\n",
      "----------------------------------------------------------------------------------\n",
      "        Temperature (C)  Apparent Temperature (C)  Humidity  Wind Speed (km/h)  \\\n",
      "75970        13.933333                 13.933333      0.45            34.2125   \n",
      "77695        15.233333                 15.233333      0.84             9.3380   \n",
      "40731         7.288889                  7.288889      0.73             3.4615   \n",
      "87298        21.061111                 21.061111      0.38             4.9910   \n",
      "44371        14.055556                 14.055556      0.82             0.1771   \n",
      "40814         3.838889                 -1.994444      0.47            36.6275   \n",
      "70584        12.755556                 12.755556      0.90             6.1985   \n",
      "11076         7.550000                  5.038889      0.98            14.0875   \n",
      "11952         8.383333                  4.538889      0.71            29.2376   \n",
      "89490         0.266667                 -2.805556      0.90             9.3541   \n",
      "18976        32.755556                 31.738889      0.30             4.7817   \n",
      "13585        20.355556                 20.355556      0.75             3.7835   \n",
      "62704        27.194444                 26.500000      0.29             9.2092   \n",
      "24647         2.127778                 -2.116667      0.73            17.0660   \n",
      "42886         0.466667                  0.466667      0.99             2.7692   \n",
      "48738        23.044444                 23.044444      0.69             6.4400   \n",
      "91916        23.233333                 23.233333      0.70            10.3362   \n",
      "85701         7.066667                  7.066667      0.86             3.1234   \n",
      "40886         2.777778                 -1.411111      0.46            17.7583   \n",
      "77779        14.450000                 14.450000      0.93             5.8443   \n",
      "21966        17.066667                 17.066667      0.87             7.9051   \n",
      "44620        11.622222                 11.622222      0.83            10.9158   \n",
      "50474        -0.555556                 -4.305556      0.76            11.3505   \n",
      "41694        11.005556                 11.005556      0.93             9.7888   \n",
      "57253        32.222222                 32.177778      0.38            12.5097   \n",
      "64697        -1.111111                 -7.427778      0.74            25.9049   \n",
      "66368        13.861111                 13.861111      0.94             3.1878   \n",
      "21728        23.444444                 23.444444      0.50             8.0822   \n",
      "20141         2.700000                  0.538889      0.82             7.6958   \n",
      "73022        12.844444                 12.844444      0.69             9.3219   \n",
      "...                ...                       ...       ...                ...   \n",
      "49911        23.933333                 23.933333      0.53            12.4453   \n",
      "90569        12.038889                 12.038889      0.72            23.0230   \n",
      "19503        -4.888889                 -8.183333      0.91             7.2772   \n",
      "68823        21.155556                 21.155556      0.56             3.0429   \n",
      "92158        17.105556                 17.105556      0.97             6.1663   \n",
      "88562        18.694444                 18.694444      0.87             5.9892   \n",
      "72905        -0.072222                 -2.677778      0.75             7.5992   \n",
      "70007        11.183333                 11.183333      0.96             3.6225   \n",
      "94174        10.433333                 10.433333      0.82             6.6654   \n",
      "15556         1.038889                 -2.694444      0.85            12.8156   \n",
      "55281         1.111111                 -3.950000      0.54            20.9300   \n",
      "55077         1.111111                 -0.894444      0.89             6.4400   \n",
      "28418         7.222222                  6.161111      0.96             6.4400   \n",
      "92146        22.361111                 22.361111      0.74             9.7888   \n",
      "86325         9.927778                  7.644444      0.87            16.6796   \n",
      "92242        27.727778                 28.055556      0.49            23.6026   \n",
      "25367        10.138889                 10.138889      0.77            16.9855   \n",
      "53461        26.016667                 26.016667      0.26            22.2663   \n",
      "88642        27.705556                 27.333333      0.39             2.9141   \n",
      "82241         1.000000                  1.000000      0.86             4.6046   \n",
      "85353        23.911111                 23.911111      0.58            10.8997   \n",
      "26479         7.777778                  7.305556      0.89             4.8300   \n",
      "30899        24.688889                 24.688889      0.40            16.8406   \n",
      "93319         8.750000                  6.116667      0.71            17.2109   \n",
      "12044         6.966667                  6.966667      0.93             4.7012   \n",
      "52891        12.222222                 12.222222      0.27            11.2700   \n",
      "54308         2.800000                  0.188889      0.96             9.4185   \n",
      "12559        22.050000                 22.050000      0.56             4.6368   \n",
      "41243        18.816667                 18.816667      0.73             9.5312   \n",
      "5117          2.800000                 -1.300000      0.82            17.2431   \n",
      "\n",
      "       Wind Bearing (degrees)  Visibility (km)  Loud Cover  \\\n",
      "75970                    21.0          16.1000         0.0   \n",
      "77695                   166.0           6.2307         0.0   \n",
      "40731                   188.0          15.8263         0.0   \n",
      "87298                   102.0          16.1000         0.0   \n",
      "44371                   147.0          11.2056         0.0   \n",
      "40814                   311.0          11.2056         0.0   \n",
      "70584                    99.0          14.8120         0.0   \n",
      "11076                   189.0           2.9624         0.0   \n",
      "11952                   299.0          15.8263         0.0   \n",
      "89490                   173.0           9.5634         0.0   \n",
      "18976                   246.0           9.9820         0.0   \n",
      "13585                   212.0          15.8263         0.0   \n",
      "62704                   263.0          16.1000         0.0   \n",
      "24647                   137.0          14.8120         0.0   \n",
      "42886                   173.0           2.8175         0.0   \n",
      "48738                   340.0          15.8263         0.0   \n",
      "91916                   133.0          15.1823         0.0   \n",
      "85701                   243.0           7.7280         0.0   \n",
      "40886                    51.0          11.2700         0.0   \n",
      "77779                   130.0          11.6886         0.0   \n",
      "21966                   349.0           9.7566         0.0   \n",
      "44620                   329.0          15.8263         0.0   \n",
      "50474                    20.0          15.8263         0.0   \n",
      "41694                   130.0          11.0285         0.0   \n",
      "57253                   150.0           9.9820         0.0   \n",
      "64697                   351.0          11.2700         0.0   \n",
      "66368                   222.0           6.2951         0.0   \n",
      "21728                    83.0          10.3523         0.0   \n",
      "20141                   288.0           9.9820         0.0   \n",
      "73022                   169.0           9.9820         0.0   \n",
      "...                       ...              ...         ...   \n",
      "49911                    20.0          11.2056         0.0   \n",
      "90569                   160.0          10.2557         0.0   \n",
      "19503                   351.0           2.7853         0.0   \n",
      "68823                   158.0          10.2557         0.0   \n",
      "92158                   330.0          15.1340         0.0   \n",
      "88562                   328.0          14.9569         0.0   \n",
      "72905                    82.0          15.1340         0.0   \n",
      "70007                    41.0           4.7978         0.0   \n",
      "94174                   352.0          15.1823         0.0   \n",
      "15556                    11.0           4.4436         0.0   \n",
      "55281                   340.0          11.2700         0.0   \n",
      "55077                   180.0           9.9820         0.0   \n",
      "28418                     0.0           2.2540         0.0   \n",
      "92146                   252.0           9.6761         0.0   \n",
      "86325                   139.0           8.3720         0.0   \n",
      "92242                   141.0          15.8263         0.0   \n",
      "25367                   140.0           8.0500         0.0   \n",
      "53461                   301.0           9.9820         0.0   \n",
      "88642                    43.0          10.2557         0.0   \n",
      "82241                   310.0           6.1985         0.0   \n",
      "85353                   261.0           9.9820         0.0   \n",
      "26479                   220.0           8.0500         0.0   \n",
      "30899                   336.0          10.3684         0.0   \n",
      "93319                    41.0          15.8263         0.0   \n",
      "12044                   128.0           7.0357         0.0   \n",
      "52891                   190.0           9.9820         0.0   \n",
      "54308                     9.0          10.9802         0.0   \n",
      "12559                   231.0           9.9820         0.0   \n",
      "41243                     1.0          11.2700         0.0   \n",
      "5117                    191.0           9.8049         0.0   \n",
      "\n",
      "       Pressure (millibars)  \n",
      "75970               1029.01  \n",
      "77695               1028.48  \n",
      "40731               1012.72  \n",
      "87298               1012.59  \n",
      "44371               1009.54  \n",
      "40814               1013.07  \n",
      "70584               1013.49  \n",
      "11076               1008.84  \n",
      "11952               1016.47  \n",
      "89490               1020.22  \n",
      "18976               1006.97  \n",
      "13585               1003.23  \n",
      "62704               1017.91  \n",
      "24647               1011.30  \n",
      "42886               1026.81  \n",
      "48738               1009.33  \n",
      "91916               1010.52  \n",
      "85701               1017.02  \n",
      "40886               1020.69  \n",
      "77779               1007.95  \n",
      "21966               1019.81  \n",
      "44620               1020.96  \n",
      "50474               1027.02  \n",
      "41694                995.02  \n",
      "57253               1017.20  \n",
      "64697               1011.70  \n",
      "66368               1015.06  \n",
      "21728               1014.18  \n",
      "20141               1029.28  \n",
      "73022               1002.76  \n",
      "...                     ...  \n",
      "49911               1020.01  \n",
      "90569               1007.32  \n",
      "19503               1036.72  \n",
      "68823               1019.81  \n",
      "92158               1005.84  \n",
      "88562               1016.64  \n",
      "72905               1023.79  \n",
      "70007               1007.96  \n",
      "94174               1019.19  \n",
      "15556               1023.07  \n",
      "55281               1022.10  \n",
      "55077               1021.90  \n",
      "28418               1012.60  \n",
      "92146               1008.96  \n",
      "86325               1018.59  \n",
      "92242               1010.36  \n",
      "25367               1013.22  \n",
      "53461               1013.61  \n",
      "88642               1012.84  \n",
      "82241               1023.31  \n",
      "85353               1013.58  \n",
      "26479               1012.80  \n",
      "30899               1024.39  \n",
      "93319                999.86  \n",
      "12044               1003.56  \n",
      "52891               1011.00  \n",
      "54308               1014.57  \n",
      "12559               1021.59  \n",
      "41243               1017.80  \n",
      "5117                1008.54  \n",
      "\n",
      "[31830 rows x 8 columns] \n",
      "\n",
      "y_train\n",
      "----------------------------------------------------------------------------------\n",
      " 6532     1\n",
      "12382    1\n",
      "54699    2\n",
      "52600    1\n",
      "93864    1\n",
      "9872     1\n",
      "67326    1\n",
      "5082     1\n",
      "57282    1\n",
      "82313    1\n",
      "68735    1\n",
      "80121    1\n",
      "42439    1\n",
      "30510    1\n",
      "53432    1\n",
      "53056    1\n",
      "46496    2\n",
      "46686    2\n",
      "2920     1\n",
      "10853    1\n",
      "45932    1\n",
      "7371     1\n",
      "68387    1\n",
      "28633    2\n",
      "51846    1\n",
      "49016    1\n",
      "10390    2\n",
      "59700    1\n",
      "72981    1\n",
      "23138    1\n",
      "        ..\n",
      "17205    1\n",
      "31749    1\n",
      "83870    1\n",
      "72820    1\n",
      "41269    1\n",
      "11064    1\n",
      "26782    1\n",
      "9661     1\n",
      "95310    1\n",
      "95803    1\n",
      "78467    1\n",
      "45939    1\n",
      "15235    1\n",
      "63449    1\n",
      "41188    1\n",
      "11404    2\n",
      "75889    1\n",
      "56570    1\n",
      "343      1\n",
      "69021    1\n",
      "27898    2\n",
      "90602    1\n",
      "81611    1\n",
      "28612    1\n",
      "18589    1\n",
      "72065    1\n",
      "55551    1\n",
      "63089    2\n",
      "60318    1\n",
      "82963    1\n",
      "Name: Precip Type, Length: 64623, dtype: int32 \n",
      "\n",
      "y_test\n",
      "----------------------------------------------------------------------------------\n",
      " 75970    1\n",
      "77695    1\n",
      "40731    1\n",
      "87298    1\n",
      "44371    1\n",
      "40814    1\n",
      "70584    1\n",
      "11076    1\n",
      "11952    1\n",
      "89490    1\n",
      "18976    1\n",
      "13585    1\n",
      "62704    1\n",
      "24647    1\n",
      "42886    1\n",
      "48738    1\n",
      "91916    1\n",
      "85701    1\n",
      "40886    1\n",
      "77779    1\n",
      "21966    1\n",
      "44620    1\n",
      "50474    2\n",
      "41694    1\n",
      "57253    1\n",
      "64697    2\n",
      "66368    1\n",
      "21728    1\n",
      "20141    1\n",
      "73022    1\n",
      "        ..\n",
      "49911    1\n",
      "90569    1\n",
      "19503    2\n",
      "68823    1\n",
      "92158    1\n",
      "88562    1\n",
      "72905    2\n",
      "70007    1\n",
      "94174    1\n",
      "15556    1\n",
      "55281    1\n",
      "55077    1\n",
      "28418    1\n",
      "92146    1\n",
      "86325    1\n",
      "92242    1\n",
      "25367    1\n",
      "53461    1\n",
      "88642    1\n",
      "82241    1\n",
      "85353    1\n",
      "26479    1\n",
      "30899    1\n",
      "93319    1\n",
      "12044    1\n",
      "52891    1\n",
      "54308    1\n",
      "12559    1\n",
      "41243    1\n",
      "5117     1\n",
      "Name: Precip Type, Length: 31830, dtype: int32 \n",
      "\n"
     ]
    }
   ],
   "source": [
    "# y is the label\n",
    "# X is the independent variables\n",
    "X = data.iloc[:, 3:11]\n",
    "y = data.iloc[:, 2]\n",
    "\n",
    "X_train, X_test, y_train, y_test = train_test_split(X, y, test_size=0.33)\n",
    "\n",
    "print(\"X_train\\n----------------------------------------------------------------------------------\\n\",X_train, \"\\n\")\n",
    "print(\"X_test\\n----------------------------------------------------------------------------------\\n\",X_test, \"\\n\")\n",
    "print(\"y_train\\n----------------------------------------------------------------------------------\\n\",y_train, \"\\n\")\n",
    "print(\"y_test\\n----------------------------------------------------------------------------------\\n\",y_test, \"\\n\")"
   ]
  },
  {
   "cell_type": "code",
   "execution_count": 17,
   "metadata": {},
   "outputs": [],
   "source": [
    "####################################################################\n",
    "#############              DECISION TREE           #################\n",
    "####################################################################"
   ]
  },
  {
   "cell_type": "code",
   "execution_count": 18,
   "metadata": {},
   "outputs": [
    {
     "data": {
      "text/plain": [
       "array([0.9942751 , 0.99412038, 0.99334674, 0.99319202, 0.99473847,\n",
       "       0.99365522, 0.99520272, 0.99334571, 0.99411947, 0.99473766])"
      ]
     },
     "execution_count": 18,
     "metadata": {},
     "output_type": "execute_result"
    }
   ],
   "source": [
    "from sklearn.tree import DecisionTreeClassifier\n",
    "from sklearn.model_selection import cross_val_score\n",
    "\n",
    "classifier = DecisionTreeClassifier(random_state=0)\n",
    "classifier.fit(X_train, y_train)\n",
    "\n",
    "cross_val_score(classifier, X_train, y_train, cv=10)"
   ]
  },
  {
   "cell_type": "code",
   "execution_count": 19,
   "metadata": {
    "scrolled": false
   },
   "outputs": [
    {
     "data": {
      "text/plain": [
       "'weather.pdf'"
      ]
     },
     "execution_count": 19,
     "metadata": {},
     "output_type": "execute_result"
    }
   ],
   "source": [
    "from sklearn import tree\n",
    "import graphviz\n",
    "\n",
    "dot_data = tree.export_graphviz(classifier, out_file=None)\n",
    "graph = graphviz.Source(dot_data)\n",
    "graph.render('weather')"
   ]
  },
  {
   "cell_type": "code",
   "execution_count": 20,
   "metadata": {},
   "outputs": [],
   "source": [
    "####################################################################\n",
    "#############              RANDOM FOREST           #################\n",
    "####################################################################"
   ]
  },
  {
   "cell_type": "code",
   "execution_count": 21,
   "metadata": {},
   "outputs": [
    {
     "name": "stdout",
     "output_type": "stream",
     "text": [
      "[0.401975   0.29866036 0.06516117 0.01356127 0.0021634  0.08892486\n",
      " 0.         0.12955394]\n"
     ]
    }
   ],
   "source": [
    "from sklearn.ensemble import RandomForestClassifier\n",
    "rf_classifier = RandomForestClassifier(n_estimators=100, max_depth=2, random_state=0)\n",
    "rf_classifier.fit(X_train, y_train)\n",
    "\n",
    "print(rf_classifier.feature_importances_)"
   ]
  },
  {
   "cell_type": "markdown",
   "metadata": {},
   "source": [
    "Make prediction using classifier."
   ]
  },
  {
   "cell_type": "code",
   "execution_count": 22,
   "metadata": {},
   "outputs": [
    {
     "name": "stdout",
     "output_type": "stream",
     "text": [
      "31830 | 31428\n",
      "True percentage 0.9873704052780395\n"
     ]
    }
   ],
   "source": [
    "classified_data = rf_classifier.predict(X_test)\n",
    "real_data = y_test\n",
    "\n",
    "true_count = 0\n",
    "for i in range(len(classified_data)):\n",
    "    if classified_data[i] == real_data.iloc[i]:\n",
    "        true_count += 1\n",
    "print(len(classified_data), '|', true_count)\n",
    "print('True percentage', true_count / len(classified_data))"
   ]
  },
  {
   "cell_type": "code",
   "execution_count": 23,
   "metadata": {},
   "outputs": [],
   "source": [
    "####################################################################\n",
    "#############                ADA BOOST             #################\n",
    "####################################################################"
   ]
  },
  {
   "cell_type": "code",
   "execution_count": 39,
   "metadata": {},
   "outputs": [
    {
     "data": {
      "text/plain": [
       "0.9911487661406477"
      ]
     },
     "execution_count": 39,
     "metadata": {},
     "output_type": "execute_result"
    }
   ],
   "source": [
    "from sklearn.ensemble import AdaBoostClassifier\n",
    "\n",
    "ada_boost_classifier = AdaBoostClassifier(n_estimators=100)"
   ]
  },
  {
   "cell_type": "code",
   "execution_count": 35,
   "metadata": {},
   "outputs": [
    {
     "data": {
      "text/plain": [
       "0.6060630412122823"
      ]
     },
     "execution_count": 35,
     "metadata": {},
     "output_type": "execute_result"
    }
   ],
   "source": [
    "scores = cross_val_score(ada_boost_classifier, X_train, y_train, cv=2)\n",
    "scores.mean()"
   ]
  },
  {
   "cell_type": "code",
   "execution_count": 36,
   "metadata": {},
   "outputs": [
    {
     "data": {
      "text/plain": [
       "0.9897563082468"
      ]
     },
     "execution_count": 36,
     "metadata": {},
     "output_type": "execute_result"
    }
   ],
   "source": [
    "scores = cross_val_score(ada_boost_classifier, X_train, y_train, cv=3)\n",
    "scores.mean()"
   ]
  },
  {
   "cell_type": "code",
   "execution_count": 40,
   "metadata": {},
   "outputs": [
    {
     "data": {
      "text/plain": [
       "0.9911487661406477"
      ]
     },
     "execution_count": 40,
     "metadata": {},
     "output_type": "execute_result"
    }
   ],
   "source": [
    "scores = cross_val_score(ada_boost_classifier, X_train, y_train, cv=5)\n",
    "scores.mean()"
   ]
  },
  {
   "cell_type": "code",
   "execution_count": 37,
   "metadata": {},
   "outputs": [
    {
     "data": {
      "text/plain": [
       "0.9626907945977592"
      ]
     },
     "execution_count": 37,
     "metadata": {},
     "output_type": "execute_result"
    }
   ],
   "source": [
    "scores = cross_val_score(ada_boost_classifier, X_train, y_train, cv=7)\n",
    "scores.mean()"
   ]
  },
  {
   "cell_type": "code",
   "execution_count": 38,
   "metadata": {},
   "outputs": [
    {
     "data": {
      "text/plain": [
       "0.9821270931667969"
      ]
     },
     "execution_count": 38,
     "metadata": {},
     "output_type": "execute_result"
    }
   ],
   "source": [
    "scores = cross_val_score(ada_boost_classifier, X_train, y_train, cv=10)\n",
    "scores.mean()"
   ]
  },
  {
   "cell_type": "code",
   "execution_count": 29,
   "metadata": {},
   "outputs": [],
   "source": [
    "####################################################################\n",
    "#############         GRADIENT TREE BOOSTING       #################\n",
    "####################################################################"
   ]
  },
  {
   "cell_type": "code",
   "execution_count": 30,
   "metadata": {},
   "outputs": [
    {
     "data": {
      "text/plain": [
       "0.9961043041156142"
      ]
     },
     "execution_count": 30,
     "metadata": {},
     "output_type": "execute_result"
    }
   ],
   "source": [
    "from sklearn.ensemble import GradientBoostingClassifier\n",
    "\n",
    "gradient_boost_classifier = GradientBoostingClassifier(n_estimators=100, learning_rate=1.0, max_depth=1, random_state=0)\n",
    "gradient_boost_classifier.fit(X_train, y_train)\n",
    "gradient_boost_classifier.score(X_test, y_test)"
   ]
  },
  {
   "cell_type": "code",
   "execution_count": 31,
   "metadata": {},
   "outputs": [
    {
     "data": {
      "text/plain": [
       "0.995947219604147"
      ]
     },
     "execution_count": 31,
     "metadata": {},
     "output_type": "execute_result"
    }
   ],
   "source": [
    "gradient_boost_classifier = GradientBoostingClassifier(n_estimators=100, learning_rate=0.5, max_depth=1, random_state=0)\n",
    "gradient_boost_classifier.fit(X_train, y_train)\n",
    "gradient_boost_classifier.score(X_test, y_test)"
   ]
  },
  {
   "cell_type": "code",
   "execution_count": 32,
   "metadata": {},
   "outputs": [
    {
     "data": {
      "text/plain": [
       "0.9262016965127239"
      ]
     },
     "execution_count": 32,
     "metadata": {},
     "output_type": "execute_result"
    }
   ],
   "source": [
    "gradient_boost_classifier = GradientBoostingClassifier(n_estimators=100, learning_rate=1.0, max_depth=3, random_state=0)\n",
    "gradient_boost_classifier.fit(X_train, y_train)\n",
    "gradient_boost_classifier.score(X_test, y_test)"
   ]
  },
  {
   "cell_type": "code",
   "execution_count": 33,
   "metadata": {},
   "outputs": [
    {
     "data": {
      "text/plain": [
       "0.9962299717247879"
      ]
     },
     "execution_count": 33,
     "metadata": {},
     "output_type": "execute_result"
    }
   ],
   "source": [
    "gradient_boost_classifier = GradientBoostingClassifier(n_estimators=100, learning_rate=0.1, max_depth=2, random_state=0)\n",
    "gradient_boost_classifier.fit(X_train, y_train)\n",
    "gradient_boost_classifier.score(X_test, y_test)"
   ]
  },
  {
   "cell_type": "code",
   "execution_count": 34,
   "metadata": {},
   "outputs": [
    {
     "data": {
      "text/plain": [
       "0.996449890040842"
      ]
     },
     "execution_count": 34,
     "metadata": {},
     "output_type": "execute_result"
    }
   ],
   "source": [
    "gradient_boost_classifier = GradientBoostingClassifier(n_estimators=1000, learning_rate=0.1, max_depth=2, random_state=0)\n",
    "gradient_boost_classifier.fit(X_train, y_train)\n",
    "gradient_boost_classifier.score(X_test, y_test)"
   ]
  }
 ],
 "metadata": {
  "kernelspec": {
   "display_name": "Python 3",
   "language": "python",
   "name": "python3"
  },
  "language_info": {
   "codemirror_mode": {
    "name": "ipython",
    "version": 3
   },
   "file_extension": ".py",
   "mimetype": "text/x-python",
   "name": "python",
   "nbconvert_exporter": "python",
   "pygments_lexer": "ipython3",
   "version": "3.7.2"
  }
 },
 "nbformat": 4,
 "nbformat_minor": 2
}
